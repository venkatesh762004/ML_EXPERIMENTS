{
  "nbformat": 4,
  "nbformat_minor": 0,
  "metadata": {
    "colab": {
      "provenance": [],
      "include_colab_link": true
    },
    "kernelspec": {
      "name": "python3",
      "display_name": "Python 3"
    },
    "language_info": {
      "name": "python"
    }
  },
  "cells": [
    {
      "cell_type": "markdown",
      "metadata": {
        "id": "view-in-github",
        "colab_type": "text"
      },
      "source": [
        "<a href=\"https://colab.research.google.com/github/venkatesh762004/ML_EXPERIMENTS/blob/main/ML_Lab2.ipynb\" target=\"_parent\"><img src=\"https://colab.research.google.com/assets/colab-badge.svg\" alt=\"Open In Colab\"/></a>"
      ]
    },
    {
      "cell_type": "markdown",
      "source": [
        "2 .For a given set of training data examples stored in a .CSV file implement and demonstrate the Candidate-Elimination algorithm to output a description of the set of all hypotheses consistent with the training examples."
      ],
      "metadata": {
        "id": "vUHC6LA3Q4_U"
      }
    },
    {
      "cell_type": "code",
      "source": [
        "import csv\n",
        "\n",
        "def g_0(n):\n",
        "    return (\"?\",) * n\n",
        "\n",
        "def s_0(n):\n",
        "    return ('0',) * n\n",
        "\n",
        "def more_general(h1, h2):\n",
        "    more_general_parts = []\n",
        "    for x, y in zip(h1, h2):\n",
        "        mg = x == \"?\" or (x != \"0\" and (x == y or y == \"0\"))\n",
        "        more_general_parts.append(mg)\n",
        "    return all(more_general_parts)\n"
      ],
      "metadata": {
        "id": "mVSQMJ3KQ7XM"
      },
      "execution_count": 1,
      "outputs": []
    },
    {
      "cell_type": "code",
      "source": [
        "def fulfills(example, hypothesis):\n",
        "    return more_general(hypothesis, example)\n",
        "\n",
        "def min_generalizations(h, x):\n",
        "    h_new = list(h)\n",
        "    for i in range(len(h)):\n",
        "        if not fulfills(x[i:i+1], h[i:i+1]):\n",
        "            h_new[i] = '?' if h[i] != '0' else x[i]\n",
        "    return [tuple(h_new)]"
      ],
      "metadata": {
        "id": "p2WxKVanQ-1w"
      },
      "execution_count": 2,
      "outputs": []
    },
    {
      "cell_type": "code",
      "source": [
        "def min_specializations(h, domains, x):\n",
        "    results = []\n",
        "    for i in range(len(h)):\n",
        "        if h[i] == \"?\":\n",
        "            for val in domains[i]:\n",
        "                if x[i] != val:\n",
        "                    h_new = h[:i] + (val,) + h[i+1:]\n",
        "                    results.append(h_new)\n",
        "        elif h[i] != \"0\":\n",
        "            h_new = h[:i] + ('0',) + h[i+1:]\n",
        "            results.append(h_new)\n",
        "    return results"
      ],
      "metadata": {
        "id": "HNMhdzLhRED-"
      },
      "execution_count": 3,
      "outputs": []
    },
    {
      "cell_type": "code",
      "source": [
        "def get_domains(examples):\n",
        "    d = [set() for i in examples[0]]\n",
        "    for x in examples:\n",
        "        for i, xi in enumerate(x):\n",
        "            d[i].add(xi)\n",
        "    return [list(sorted(x)) for x in d]\n"
      ],
      "metadata": {
        "id": "7zI15N_qRGTE"
      },
      "execution_count": 4,
      "outputs": []
    },
    {
      "cell_type": "code",
      "source": [
        "\n",
        "\n",
        "def candidate_elimination(examples):\n",
        "    domains = get_domains(examples)[:-1]\n",
        "    G = set([g_0(len(domains))])\n",
        "    S = set([s_0(len(domains))])\n",
        "    i = 0\n",
        "    print(\"\\n G[{0}]:\".format(i), G)\n",
        "    print(\"\\n S[{0}]:\".format(i), S)\n",
        "    for xcx in examples:\n",
        "        i = i + 1\n",
        "        x, cx = xcx[:-1], xcx[-1]  # Splitting data into attributes and decisions\n",
        "        if cx == 'Y':  # x is positive example\n",
        "            G = {g for g in G if fulfills(x, g)}\n",
        "            S = generalize_S(x, G, S)\n",
        "        else:  # x is negative example\n",
        "            S = {s for s in S if not fulfills(x, s)}\n",
        "            G = specialize_G(x, domains, G, S)\n",
        "        print(\"\\n G[{0}]:\".format(i), G)\n",
        "        print(\"\\n S[{0}]:\".format(i), S)\n",
        "    print(\"\\nFinal General Hypothesis (G):\", G)\n",
        "    print(\"\\nFinal Specific Hypothesis (S):\", S)\n",
        "    return"
      ],
      "metadata": {
        "id": "ntasxgwQRIz1"
      },
      "execution_count": 5,
      "outputs": []
    },
    {
      "cell_type": "code",
      "source": [
        "def generalize_S(x, G, S):\n",
        "    S_prev = list(S)\n",
        "    for s in S_prev:\n",
        "        if s not in S:\n",
        "            continue\n",
        "        if not fulfills(x, s):\n",
        "            S.remove(s)\n",
        "            Splus = min_generalizations(s, x)\n",
        "            # Keep only generalizations that have a counterpart in G\n",
        "            S.update([h for h in Splus if any([more_general(g, h) for g in G])])\n",
        "            # Remove hypotheses less specific than any other in S\n",
        "            S.difference_update([h for h in S if any([more_general(h, h1) for h1 in S if h != h1])])\n",
        "    return S"
      ],
      "metadata": {
        "id": "YTE2hSTjRK0Q"
      },
      "execution_count": 6,
      "outputs": []
    },
    {
      "cell_type": "code",
      "source": [
        "def specialize_G(x, domains, G, S):\n",
        "    G_prev = list(G)\n",
        "    for g in G_prev:\n",
        "        if g not in G:\n",
        "            continue\n",
        "        if fulfills(x, g):\n",
        "            G.remove(g)\n",
        "            Gminus = min_specializations(g, domains, x)\n",
        "            # Keep only specializations that have a counterpart in S\n",
        "            G.update([h for h in Gminus if any([more_general(h, s) for s in S])])\n",
        "            # Remove hypotheses less general than any other in G\n",
        "            G.difference_update([h for h in G if any([more_general(g1, h) for g1 in G if h != g1])])\n",
        "    return G"
      ],
      "metadata": {
        "id": "Q7ZWc3uGRNR9"
      },
      "execution_count": 7,
      "outputs": []
    },
    {
      "cell_type": "code",
      "source": [
        "\n",
        "# Load the examples from a CSV file\n",
        "with open('/content/Lab2.csv') as csvFile:\n",
        "    examples = [tuple(line) for line in csv.reader(csvFile)]"
      ],
      "metadata": {
        "id": "dIOnhr_pRQi7"
      },
      "execution_count": 8,
      "outputs": []
    },
    {
      "cell_type": "code",
      "source": [
        "# Load the examples from a CSV file\n",
        "with open('/content/Lab2.csv') as csvFile:\n",
        "    examples = [tuple(line) for line in csv.reader(csvFile)]\n",
        "\n",
        "# Examples for testing (uncomment and use instead of loading from a file)\n",
        "# examples = [\n",
        "#     ('sunny', 'warm', 'normal', 'strong', 'warm', 'same', 'Y'),\n",
        "#     ('sunny', 'warm', 'high', 'strong', 'warm', 'same', 'Y'),\n",
        "#     ('rainy', 'cold', 'high', 'strong', 'warm', 'change', 'N'),\n",
        "#     ('sunny', 'warm', 'high', 'strong', 'cool', 'change', 'Y')\n",
        "# ]\n",
        "\n",
        "# Run the candidate elimination algorithm\n",
        "candidate_elimination(examples)"
      ],
      "metadata": {
        "colab": {
          "base_uri": "https://localhost:8080/"
        },
        "id": "jdQo_3EMRTCh",
        "outputId": "47c6cea8-6195-4eb0-a61f-d73beadb96a8"
      },
      "execution_count": 9,
      "outputs": [
        {
          "output_type": "stream",
          "name": "stdout",
          "text": [
            "\n",
            " G[0]: {('?', '?', '?', '?', '?', '?')}\n",
            "\n",
            " S[0]: {('0', '0', '0', '0', '0', '0')}\n",
            "\n",
            " G[1]: {('?', '?', '?', '?', '?', '?')}\n",
            "\n",
            " S[1]: {('Sunny', 'Warm', 'Normal', 'Strong', 'Warm', 'Same')}\n",
            "\n",
            " G[2]: {('?', '?', '?', '?', '?', '?')}\n",
            "\n",
            " S[2]: {('Sunny', 'Warm', '?', 'Strong', 'Warm', 'Same')}\n",
            "\n",
            " G[3]: {('?', 'Warm', '?', '?', '?', '?'), ('?', '?', '?', '?', '?', 'Same'), ('Sunny', '?', '?', '?', '?', '?')}\n",
            "\n",
            " S[3]: {('Sunny', 'Warm', '?', 'Strong', 'Warm', 'Same')}\n",
            "\n",
            " G[4]: {('?', 'Warm', '?', '?', '?', '?'), ('Sunny', '?', '?', '?', '?', '?')}\n",
            "\n",
            " S[4]: {('Sunny', 'Warm', '?', 'Strong', '?', '?')}\n",
            "\n",
            "Final General Hypothesis (G): {('?', 'Warm', '?', '?', '?', '?'), ('Sunny', '?', '?', '?', '?', '?')}\n",
            "\n",
            "Final Specific Hypothesis (S): {('Sunny', 'Warm', '?', 'Strong', '?', '?')}\n"
          ]
        }
      ]
    }
  ]
}