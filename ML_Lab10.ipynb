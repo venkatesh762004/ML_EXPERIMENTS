{
  "nbformat": 4,
  "nbformat_minor": 0,
  "metadata": {
    "colab": {
      "provenance": [],
      "include_colab_link": true
    },
    "kernelspec": {
      "name": "python3",
      "display_name": "Python 3"
    },
    "language_info": {
      "name": "python"
    }
  },
  "cells": [
    {
      "cell_type": "markdown",
      "metadata": {
        "id": "view-in-github",
        "colab_type": "text"
      },
      "source": [
        "<a href=\"https://colab.research.google.com/github/venkatesh762004/ML_EXPERIMENTS/blob/main/ML_Lab10.ipynb\" target=\"_parent\"><img src=\"https://colab.research.google.com/assets/colab-badge.svg\" alt=\"Open In Colab\"/></a>"
      ]
    },
    {
      "cell_type": "markdown",
      "source": [
        "**Naïve Bayes Classifier Algorithm:**\n",
        "\n",
        "Naïve Bayes algorithm is a supervised learning algorithm, which is based on Bayes theorem and used for solving classification problems.\n",
        "\n",
        "It is mainly used in text classification that includes a high-dimensional training dataset.\n",
        "\n",
        "Naïve Bayes Classifier is one of the simple and most effective Classification algorithms which helps in building the fast machine learning models that can make quick predictions.\n",
        "\n",
        "It is a probabilistic classifier, which means it predicts on the basis of the probability of an object.\n",
        "\n",
        "Some popular examples of Naïve Bayes Algorithm are spam filtration, Sentimental analysis, and classifying articles.\n",
        "\n",
        "The Naïve Bayes algorithm is comprised of two words Naïve and Bayes, Which can be described as:\n",
        "\n",
        "**Naïve:**  It is called Naïve because it assumes that the occurrence of a certain feature is independent of the occurrence of other features. Such as if the fruit is identified on the bases of color, shape, and taste, then red, spherical, and sweet fruit is recognized as an apple. Hence each feature individually contributes to identify that it is an apple without depending on each other.\n",
        "\n",
        "**Bayes:** It is called Bayes because it depends on the principle of Bayes' Theorem.\n",
        "\n",
        "**Bayes' Theorem:**\n",
        "\n",
        "Bayes' theorem is also known as Bayes' Rule or Bayes' law, which is used to determine the probability of a hypothesis with prior knowledge. It depends on the conditional probability.\n",
        "\n",
        "\n",
        "P(A|B) is Posterior probability: Probability of hypothesis A on the observed event B.\n",
        "\n",
        "P(B|A) is Likelihood probability: Probability of the evidence given that the probability of a hypothesis is true."
      ],
      "metadata": {
        "id": "vbYfsbNW_Q5I"
      }
    },
    {
      "cell_type": "markdown",
      "source": [
        "**10. Assuming a set of Documents that need to be classified, use the naive Bayesian Classifier model to perform this task. Built - in Java classes API can be used to write the program. Calculate the accuracy, Precision and recall for your dataset.**"
      ],
      "metadata": {
        "id": "suGBjx5e_lGK"
      }
    },
    {
      "cell_type": "code",
      "source": [
        "import pandas as pd\n",
        "from sklearn.model_selection import train_test_split\n",
        "from sklearn.naive_bayes import MultinomialNB\n",
        "from sklearn.feature_extraction.text import CountVectorizer\n",
        "from sklearn.metrics import accuracy_score, precision_score, recall_score, classification_report\n",
        "\n",
        "# Read dataset from a CSV file\n",
        "df = pd.read_csv('/content/Lab10.csv')\n",
        "\n",
        "# Check if the DataFrame is loaded correctly\n",
        "print(df.head())  # Print the first few rows of the DataFrame\n",
        "\n",
        "# Assuming the dataset has 'message' and 'label' columns\n",
        "X = df['message']\n",
        "y = df['label']\n",
        "\n",
        "# Split the data into training and testing sets\n",
        "X_train, X_test, y_train, y_test = train_test_split(X, y, test_size=0.2, random_state=42)\n",
        "\n",
        "# Text preprocessing: Convert text to a bag-of-words model\n",
        "vectorizer = CountVectorizer()\n",
        "X_train_vectorized = vectorizer.fit_transform(X_train)\n",
        "X_test_vectorized = vectorizer.transform(X_test)\n",
        "\n",
        "# Initialize and train the Naïve Bayes classifier\n",
        "model = MultinomialNB()\n",
        "model.fit(X_train_vectorized, y_train)\n",
        "\n",
        "# Make predictions\n",
        "y_pred = model.predict(X_test_vectorized)\n",
        "\n",
        "# Calculate accuracy, precision, and recall\n",
        "accuracy = accuracy_score(y_test, y_pred)\n",
        "precision = precision_score(y_test, y_pred)\n",
        "recall = recall_score(y_test, y_pred)\n",
        "\n",
        "# Print results with extra spacing\n",
        "print(\"\\nResults:\\n\")\n",
        "print(\"Accuracy: {:.2f}\".format(accuracy))\n",
        "print(\"Precision: {:.2f}\".format(precision))\n",
        "print(\"Recall: {:.2f}\".format(recall))\n",
        "print(\"\\nClassification Report:\\n\", classification_report(y_test, y_pred))\n",
        "\n",
        "# Print a more formatted view of the first few rows of the DataFrame\n",
        "print(\"\\nSample Data:\\n\")\n",
        "print(df.to_string(index=False))  # Print without index for cleaner output\n",
        "\n"
      ],
      "metadata": {
        "colab": {
          "base_uri": "https://localhost:8080/"
        },
        "id": "5LmwYcTE_orL",
        "outputId": "e4c096fb-2033-4f7b-9132-0b5cae9c271c"
      },
      "execution_count": 1,
      "outputs": [
        {
          "output_type": "stream",
          "name": "stdout",
          "text": [
            "                              message  label\n",
            "0                I love this sandwich      1\n",
            "1            This is an amazing place      1\n",
            "2  I feel very good about these beers      1\n",
            "3                This is my best work      1\n",
            "4                What an awesome view      1\n",
            "\n",
            "Results:\n",
            "\n",
            "Accuracy: 1.00\n",
            "Precision: 1.00\n",
            "Recall: 1.00\n",
            "\n",
            "Classification Report:\n",
            "               precision    recall  f1-score   support\n",
            "\n",
            "           0       1.00      1.00      1.00         2\n",
            "           1       1.00      1.00      1.00         2\n",
            "\n",
            "    accuracy                           1.00         4\n",
            "   macro avg       1.00      1.00      1.00         4\n",
            "weighted avg       1.00      1.00      1.00         4\n",
            "\n",
            "\n",
            "Sample Data:\n",
            "\n",
            "                              message  label\n",
            "                 I love this sandwich      1\n",
            "             This is an amazing place      1\n",
            "   I feel very good about these beers      1\n",
            "                 This is my best work      1\n",
            "                 What an awesome view      1\n",
            "        I do not like this restaurant      0\n",
            "             I am tired of this stuff      0\n",
            "               I can't deal with this      0\n",
            "                 He is my sworn enemy      0\n",
            "                  My boss is horrible      0\n",
            "             This is an awesome place      1\n",
            "I do not like the taste of this juice      0\n",
            "                      I love to dance      1\n",
            "    I am sick and tired of this place      0\n",
            "                 What a great holiday      1\n",
            "       That is a bad locality to stay      0\n",
            "       We will have good fun tomorrow      1\n",
            "     I went to my enemy's house today      0\n"
          ]
        }
      ]
    }
  ]
}