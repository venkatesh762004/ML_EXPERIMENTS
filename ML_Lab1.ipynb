{
  "nbformat": 4,
  "nbformat_minor": 0,
  "metadata": {
    "colab": {
      "provenance": [],
      "include_colab_link": true
    },
    "kernelspec": {
      "name": "python3",
      "display_name": "Python 3"
    },
    "language_info": {
      "name": "python"
    }
  },
  "cells": [
    {
      "cell_type": "markdown",
      "metadata": {
        "id": "view-in-github",
        "colab_type": "text"
      },
      "source": [
        "<a href=\"https://colab.research.google.com/github/ramyasri-2003/ML_EXPERIMENTS/blob/main/ML_Lab1.ipynb\" target=\"_parent\"><img src=\"https://colab.research.google.com/assets/colab-badge.svg\" alt=\"Open In Colab\"/></a>"
      ]
    },
    {
      "cell_type": "markdown",
      "source": [
        "**Find- S Algorithm :**\n",
        "The S algorithm, also known as the Find-S algorithm, is a machine learning algorithm that seeks to find a maximally specific hypothesis based on labeled training data. It starts with the most specific hypothesis and generalizes it by incorporating positive examples. It ignores negative examples during the learning process."
      ],
      "metadata": {
        "id": "hcuBQW0C772n"
      }
    },
    {
      "cell_type": "code",
      "source": [
        "import csv\n",
        "\n",
        "# Attributes used in the dataset (not directly used in the code, just for reference)\n",
        "attributes = [['Sunny', 'Rainy'],\n",
        "              ['Warm', 'Cold'],\n",
        "              ['Normal', 'High'],\n",
        "              ['Strong', 'Weak'],\n",
        "              ['Warm', 'Cool'],\n",
        "              ['Same', 'Change']]\n",
        "\n",
        "num_attributes = len(attributes)\n",
        "\n",
        "# Displaying general and specific hypotheses\n",
        "print(\"\\nThe most general hypothesis: ['?','?','?','?','?','?']\\n\")\n",
        "print(\"\\nThe most specific hypothesis: ['0','0','0','0','0','0']\\n\")"
      ],
      "metadata": {
        "colab": {
          "base_uri": "https://localhost:8080/"
        },
        "id": "LZJ82iNUPWbE",
        "outputId": "d4347a69-637b-4303-d44f-ef86e6496402"
      },
      "execution_count": 1,
      "outputs": [
        {
          "output_type": "stream",
          "name": "stdout",
          "text": [
            "\n",
            "The most general hypothesis: ['?','?','?','?','?','?']\n",
            "\n",
            "\n",
            "The most specific hypothesis: ['0','0','0','0','0','0']\n",
            "\n"
          ]
        }
      ]
    },
    {
      "cell_type": "code",
      "source": [
        "data = []\n",
        "\n",
        "# Reading the CSV file\n",
        "print(\"\\nThe Given Training Data Set\\n\")\n",
        "with open('/content/Lab1.csv', 'r') as csvFile:\n",
        "    reader = csv.reader(csvFile)\n",
        "    for row in reader:\n",
        "        data.append(row)\n",
        "        print(row)"
      ],
      "metadata": {
        "colab": {
          "base_uri": "https://localhost:8080/"
        },
        "id": "d0P60QCuPhd1",
        "outputId": "1300691e-e6fd-45a5-ec96-092d3be75873"
      },
      "execution_count": 2,
      "outputs": [
        {
          "output_type": "stream",
          "name": "stdout",
          "text": [
            "\n",
            "The Given Training Data Set\n",
            "\n",
            "['Sunny', 'Warm', 'Normal', 'Strong', 'Warm', 'Same', 'Yes']\n",
            "['Sunny', 'Warm', 'High', 'Strong', 'Warm', 'Same', 'Yes']\n",
            "['Rainy', 'Cold', 'High', 'Strong', 'Warm', 'Change', 'No']\n",
            "['Sunny', 'Warm', 'High', 'Strong', 'Cool', 'Change', 'Yes']\n"
          ]
        }
      ]
    },
    {
      "cell_type": "code",
      "source": [
        "# Initial hypothesis (most specific)\n",
        "print(\"\\nThe initial value of hypothesis:\")\n",
        "hypothesis = ['0'] * num_attributes\n",
        "print(hypothesis)"
      ],
      "metadata": {
        "colab": {
          "base_uri": "https://localhost:8080/"
        },
        "id": "EZg3U43YPh_o",
        "outputId": "e8c4f9e2-609e-408f-ee5a-8aef8165a1c3"
      },
      "execution_count": 3,
      "outputs": [
        {
          "output_type": "stream",
          "name": "stdout",
          "text": [
            "\n",
            "The initial value of hypothesis:\n",
            "['0', '0', '0', '0', '0', '0']\n"
          ]
        }
      ]
    },
    {
      "cell_type": "code",
      "source": [
        "# Comparing with the first training example\n",
        "for j in range(num_attributes):\n",
        "    hypothesis[j] = data[0][j]\n",
        "\n",
        "# Comparing with remaining training examples of the given data set\n",
        "print(\"\\nFind S: Finding a Maximally Specific Hypothesis\\n\")\n",
        "for i in range(len(data)):\n",
        "    if data[i][num_attributes] == 'Yes':  # Only consider positive examples\n",
        "        for j in range(num_attributes):\n",
        "            if data[i][j] != hypothesis[j]:\n",
        "                hypothesis[j] = '?'\n",
        "            else:\n",
        "                hypothesis[j] = data[i][j]\n",
        "    print(f\"For Training Example No {i + 1}, the hypothesis is {hypothesis}\")"
      ],
      "metadata": {
        "colab": {
          "base_uri": "https://localhost:8080/"
        },
        "id": "IefsoYSPPk6u",
        "outputId": "3907936f-b200-4e59-845c-c0d275ac120c"
      },
      "execution_count": 4,
      "outputs": [
        {
          "output_type": "stream",
          "name": "stdout",
          "text": [
            "\n",
            "Find S: Finding a Maximally Specific Hypothesis\n",
            "\n",
            "For Training Example No 1, the hypothesis is ['Sunny', 'Warm', 'Normal', 'Strong', 'Warm', 'Same']\n",
            "For Training Example No 2, the hypothesis is ['Sunny', 'Warm', '?', 'Strong', 'Warm', 'Same']\n",
            "For Training Example No 3, the hypothesis is ['Sunny', 'Warm', '?', 'Strong', 'Warm', 'Same']\n",
            "For Training Example No 4, the hypothesis is ['Sunny', 'Warm', '?', 'Strong', '?', '?']\n"
          ]
        }
      ]
    },
    {
      "cell_type": "code",
      "source": [
        "print(\"\\nThe Maximally Specific Hypothesis for a given Training Example:\\n\")\n",
        "print(hypothesis)\n"
      ],
      "metadata": {
        "colab": {
          "base_uri": "https://localhost:8080/"
        },
        "id": "2bJzK5hsPn3P",
        "outputId": "f8861e99-30ce-4a25-8cad-b40b74910e78"
      },
      "execution_count": 5,
      "outputs": [
        {
          "output_type": "stream",
          "name": "stdout",
          "text": [
            "\n",
            "The Maximally Specific Hypothesis for a given Training Example:\n",
            "\n",
            "['Sunny', 'Warm', '?', 'Strong', '?', '?']\n"
          ]
        }
      ]
    },
    {
      "cell_type": "markdown",
      "source": [
        "This code sets up a list of attributes with their possible values for a machine learning task, likely concept learning. It prints out the most general hypothesis (['?', '?', '?', '?', '?', '?']) and the most specific hypothesis (['0', '0', '0', '0', '0', '0']), which are used as starting points for learning from data.\n",
        "\n",
        "After Training Example No. 1:\n",
        "\n",
        "The hypothesis is set to match the first positive example exactly: ['Sunny', 'Warm', '?', 'Strong', 'Warm', 'Same'].\n",
        "\n",
        "After Training Example No. 2:\n",
        "\n",
        "The second example matches the current hypothesis, so the hypothesis remains unchanged: ['Sunny', 'Warm', '?', 'Strong', 'Warm', 'Same'].\n",
        "\n",
        "After Training Example No. 3:\n",
        "\n",
        "The third example causes the hypothesis to be generalized where it differs. Specifically, the values for the fifth and sixth attributes are generalized to ?: ['Sunny', 'Warm', '?', 'Strong', '?', '?'].\n",
        "\n",
        "Final Hypothesis:\n",
        "\n",
        "The most specific hypothesis that fits all the positive examples is ['Sunny', 'Warm', '?', 'Strong', '?', '?'].\n",
        "\n",
        "This final hypothesis covers all positive training examples by being as specific as possible while accommodating variations in the data."
      ],
      "metadata": {
        "id": "-eOk644SPw4h"
      }
    }
  ]
}