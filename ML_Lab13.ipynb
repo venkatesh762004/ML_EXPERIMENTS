{
  "nbformat": 4,
  "nbformat_minor": 0,
  "metadata": {
    "colab": {
      "provenance": [],
      "include_colab_link": true
    },
    "kernelspec": {
      "name": "python3",
      "display_name": "Python 3"
    },
    "language_info": {
      "name": "python"
    }
  },
  "cells": [
    {
      "cell_type": "markdown",
      "metadata": {
        "id": "view-in-github",
        "colab_type": "text"
      },
      "source": [
        "<a href=\"https://colab.research.google.com/github/venkatesh762004/ML_EXPERIMENTS/blob/main/ML_Lab13.ipynb\" target=\"_parent\"><img src=\"https://colab.research.google.com/assets/colab-badge.svg\" alt=\"Open In Colab\"/></a>"
      ]
    },
    {
      "cell_type": "markdown",
      "source": [
        "\n",
        "**Bayesian Network **\n",
        "\n",
        "A Bayesian Network (also known as a Bayesian Belief Network or a Probabilistic Graphical Model) is a graphical model that represents a set of variables and their conditional dependencies via a directed acyclic graph (DAG). Bayesian networks are widely used in machine learning for various applications, including reasoning, decision-making, and prediction.\n",
        "\n",
        "Key Concepts of Bayesian Networks\n",
        "**bold text**\n",
        "**Nodes and Edges:**\n",
        "\n",
        "**Nodes:** Represent random variables, which can be discrete or continuous.\n",
        "\n",
        "**Edges:** Directed edges (arrows) indicate the relationships between the nodes, where an edge from node A to node B suggests that A has a direct influence on B.\n",
        "\n",
        "**Conditional Probability Distribution (CPD):**\n",
        "\n",
        "Each node has an associated CPD that quantifies the effect of the parent nodes on that node. If a node has no parents, it has a prior probability distribution.\n",
        "\n",
        "**Directed Acyclic Graph (DAG):**\n",
        "\n",
        "The structure of a Bayesian network is a directed acyclic graph, meaning there are no cycles or loops. This ensures a clear direction of influence among the variables.\n",
        "\n",
        "**Inference:**\n",
        "\n",
        "Bayesian networks enable reasoning about the relationships between variables. Inference involves computing the probability distribution of a subset of variables given evidence about other variables. Common inference algorithms include Variable Elimination and Belief Propagation.\n",
        "\n",
        "**Learning:**\n",
        "\n",
        "Bayesian networks can be learned from data.\n",
        "\n",
        "There are two main types oflearning: **Parameter Learning:** Estimating the CPDs given a structure. **Structure Learning: **Identifying the network structure from data."
      ],
      "metadata": {
        "id": "SFGTrRcMFxWE"
      }
    },
    {
      "cell_type": "markdown",
      "source": [
        "\n",
        "13. Write a Python program to construct a Bayesian network considering medical data. Use this model to demonstrate the diagnosis of heart patients using standard Heart Disease Data Set"
      ],
      "metadata": {
        "id": "uT2bSWe_GHDX"
      }
    },
    {
      "cell_type": "code",
      "source": [
        "!pip install pgmpy"
      ],
      "metadata": {
        "colab": {
          "base_uri": "https://localhost:8080/"
        },
        "id": "I6ElaczUGJG-",
        "outputId": "6140bf02-44f1-4083-b21a-4b2fe6317126"
      },
      "execution_count": 1,
      "outputs": [
        {
          "output_type": "stream",
          "name": "stdout",
          "text": [
            "Collecting pgmpy\n",
            "  Downloading pgmpy-0.1.26-py3-none-any.whl.metadata (9.1 kB)\n",
            "Requirement already satisfied: networkx in /usr/local/lib/python3.10/dist-packages (from pgmpy) (3.4)\n",
            "Requirement already satisfied: numpy in /usr/local/lib/python3.10/dist-packages (from pgmpy) (1.26.4)\n",
            "Requirement already satisfied: scipy in /usr/local/lib/python3.10/dist-packages (from pgmpy) (1.13.1)\n",
            "Requirement already satisfied: scikit-learn in /usr/local/lib/python3.10/dist-packages (from pgmpy) (1.5.2)\n",
            "Requirement already satisfied: pandas in /usr/local/lib/python3.10/dist-packages (from pgmpy) (2.2.2)\n",
            "Requirement already satisfied: pyparsing in /usr/local/lib/python3.10/dist-packages (from pgmpy) (3.1.4)\n",
            "Requirement already satisfied: torch in /usr/local/lib/python3.10/dist-packages (from pgmpy) (2.4.1+cu121)\n",
            "Requirement already satisfied: statsmodels in /usr/local/lib/python3.10/dist-packages (from pgmpy) (0.14.4)\n",
            "Requirement already satisfied: tqdm in /usr/local/lib/python3.10/dist-packages (from pgmpy) (4.66.5)\n",
            "Requirement already satisfied: joblib in /usr/local/lib/python3.10/dist-packages (from pgmpy) (1.4.2)\n",
            "Requirement already satisfied: opt-einsum in /usr/local/lib/python3.10/dist-packages (from pgmpy) (3.4.0)\n",
            "Requirement already satisfied: xgboost in /usr/local/lib/python3.10/dist-packages (from pgmpy) (2.1.1)\n",
            "Requirement already satisfied: google-generativeai in /usr/local/lib/python3.10/dist-packages (from pgmpy) (0.7.2)\n",
            "Requirement already satisfied: google-ai-generativelanguage==0.6.6 in /usr/local/lib/python3.10/dist-packages (from google-generativeai->pgmpy) (0.6.6)\n",
            "Requirement already satisfied: google-api-core in /usr/local/lib/python3.10/dist-packages (from google-generativeai->pgmpy) (2.19.2)\n",
            "Requirement already satisfied: google-api-python-client in /usr/local/lib/python3.10/dist-packages (from google-generativeai->pgmpy) (2.137.0)\n",
            "Requirement already satisfied: google-auth>=2.15.0 in /usr/local/lib/python3.10/dist-packages (from google-generativeai->pgmpy) (2.27.0)\n",
            "Requirement already satisfied: protobuf in /usr/local/lib/python3.10/dist-packages (from google-generativeai->pgmpy) (3.20.3)\n",
            "Requirement already satisfied: pydantic in /usr/local/lib/python3.10/dist-packages (from google-generativeai->pgmpy) (2.9.2)\n",
            "Requirement already satisfied: typing-extensions in /usr/local/lib/python3.10/dist-packages (from google-generativeai->pgmpy) (4.12.2)\n",
            "Requirement already satisfied: proto-plus<2.0.0dev,>=1.22.3 in /usr/local/lib/python3.10/dist-packages (from google-ai-generativelanguage==0.6.6->google-generativeai->pgmpy) (1.24.0)\n",
            "Requirement already satisfied: python-dateutil>=2.8.2 in /usr/local/lib/python3.10/dist-packages (from pandas->pgmpy) (2.8.2)\n",
            "Requirement already satisfied: pytz>=2020.1 in /usr/local/lib/python3.10/dist-packages (from pandas->pgmpy) (2024.2)\n",
            "Requirement already satisfied: tzdata>=2022.7 in /usr/local/lib/python3.10/dist-packages (from pandas->pgmpy) (2024.2)\n",
            "Requirement already satisfied: threadpoolctl>=3.1.0 in /usr/local/lib/python3.10/dist-packages (from scikit-learn->pgmpy) (3.5.0)\n",
            "Requirement already satisfied: patsy>=0.5.6 in /usr/local/lib/python3.10/dist-packages (from statsmodels->pgmpy) (0.5.6)\n",
            "Requirement already satisfied: packaging>=21.3 in /usr/local/lib/python3.10/dist-packages (from statsmodels->pgmpy) (24.1)\n",
            "Requirement already satisfied: filelock in /usr/local/lib/python3.10/dist-packages (from torch->pgmpy) (3.16.1)\n",
            "Requirement already satisfied: sympy in /usr/local/lib/python3.10/dist-packages (from torch->pgmpy) (1.13.3)\n",
            "Requirement already satisfied: jinja2 in /usr/local/lib/python3.10/dist-packages (from torch->pgmpy) (3.1.4)\n",
            "Requirement already satisfied: fsspec in /usr/local/lib/python3.10/dist-packages (from torch->pgmpy) (2024.6.1)\n",
            "Requirement already satisfied: nvidia-nccl-cu12 in /usr/local/lib/python3.10/dist-packages (from xgboost->pgmpy) (2.23.4)\n",
            "Requirement already satisfied: googleapis-common-protos<2.0.dev0,>=1.56.2 in /usr/local/lib/python3.10/dist-packages (from google-api-core->google-generativeai->pgmpy) (1.65.0)\n",
            "Requirement already satisfied: requests<3.0.0.dev0,>=2.18.0 in /usr/local/lib/python3.10/dist-packages (from google-api-core->google-generativeai->pgmpy) (2.32.3)\n",
            "Requirement already satisfied: cachetools<6.0,>=2.0.0 in /usr/local/lib/python3.10/dist-packages (from google-auth>=2.15.0->google-generativeai->pgmpy) (5.5.0)\n",
            "Requirement already satisfied: pyasn1-modules>=0.2.1 in /usr/local/lib/python3.10/dist-packages (from google-auth>=2.15.0->google-generativeai->pgmpy) (0.4.1)\n",
            "Requirement already satisfied: rsa<5,>=3.1.4 in /usr/local/lib/python3.10/dist-packages (from google-auth>=2.15.0->google-generativeai->pgmpy) (4.9)\n",
            "Requirement already satisfied: six in /usr/local/lib/python3.10/dist-packages (from patsy>=0.5.6->statsmodels->pgmpy) (1.16.0)\n",
            "Requirement already satisfied: httplib2<1.dev0,>=0.19.0 in /usr/local/lib/python3.10/dist-packages (from google-api-python-client->google-generativeai->pgmpy) (0.22.0)\n",
            "Requirement already satisfied: google-auth-httplib2<1.0.0,>=0.2.0 in /usr/local/lib/python3.10/dist-packages (from google-api-python-client->google-generativeai->pgmpy) (0.2.0)\n",
            "Requirement already satisfied: uritemplate<5,>=3.0.1 in /usr/local/lib/python3.10/dist-packages (from google-api-python-client->google-generativeai->pgmpy) (4.1.1)\n",
            "Requirement already satisfied: MarkupSafe>=2.0 in /usr/local/lib/python3.10/dist-packages (from jinja2->torch->pgmpy) (3.0.1)\n",
            "Requirement already satisfied: annotated-types>=0.6.0 in /usr/local/lib/python3.10/dist-packages (from pydantic->google-generativeai->pgmpy) (0.7.0)\n",
            "Requirement already satisfied: pydantic-core==2.23.4 in /usr/local/lib/python3.10/dist-packages (from pydantic->google-generativeai->pgmpy) (2.23.4)\n",
            "Requirement already satisfied: mpmath<1.4,>=1.1.0 in /usr/local/lib/python3.10/dist-packages (from sympy->torch->pgmpy) (1.3.0)\n",
            "Requirement already satisfied: grpcio<2.0dev,>=1.33.2 in /usr/local/lib/python3.10/dist-packages (from google-api-core[grpc]!=2.0.*,!=2.1.*,!=2.10.*,!=2.2.*,!=2.3.*,!=2.4.*,!=2.5.*,!=2.6.*,!=2.7.*,!=2.8.*,!=2.9.*,<3.0.0dev,>=1.34.1->google-ai-generativelanguage==0.6.6->google-generativeai->pgmpy) (1.64.1)\n",
            "Requirement already satisfied: grpcio-status<2.0.dev0,>=1.33.2 in /usr/local/lib/python3.10/dist-packages (from google-api-core[grpc]!=2.0.*,!=2.1.*,!=2.10.*,!=2.2.*,!=2.3.*,!=2.4.*,!=2.5.*,!=2.6.*,!=2.7.*,!=2.8.*,!=2.9.*,<3.0.0dev,>=1.34.1->google-ai-generativelanguage==0.6.6->google-generativeai->pgmpy) (1.48.2)\n",
            "Requirement already satisfied: pyasn1<0.7.0,>=0.4.6 in /usr/local/lib/python3.10/dist-packages (from pyasn1-modules>=0.2.1->google-auth>=2.15.0->google-generativeai->pgmpy) (0.6.1)\n",
            "Requirement already satisfied: charset-normalizer<4,>=2 in /usr/local/lib/python3.10/dist-packages (from requests<3.0.0.dev0,>=2.18.0->google-api-core->google-generativeai->pgmpy) (3.4.0)\n",
            "Requirement already satisfied: idna<4,>=2.5 in /usr/local/lib/python3.10/dist-packages (from requests<3.0.0.dev0,>=2.18.0->google-api-core->google-generativeai->pgmpy) (3.10)\n",
            "Requirement already satisfied: urllib3<3,>=1.21.1 in /usr/local/lib/python3.10/dist-packages (from requests<3.0.0.dev0,>=2.18.0->google-api-core->google-generativeai->pgmpy) (2.2.3)\n",
            "Requirement already satisfied: certifi>=2017.4.17 in /usr/local/lib/python3.10/dist-packages (from requests<3.0.0.dev0,>=2.18.0->google-api-core->google-generativeai->pgmpy) (2024.8.30)\n",
            "Downloading pgmpy-0.1.26-py3-none-any.whl (2.0 MB)\n",
            "\u001b[2K   \u001b[90m━━━━━━━━━━━━━━━━━━━━━━━━━━━━━━━━━━━━━━━━\u001b[0m \u001b[32m2.0/2.0 MB\u001b[0m \u001b[31m21.0 MB/s\u001b[0m eta \u001b[36m0:00:00\u001b[0m\n",
            "\u001b[?25hInstalling collected packages: pgmpy\n",
            "Successfully installed pgmpy-0.1.26\n"
          ]
        }
      ]
    },
    {
      "cell_type": "code",
      "source": [
        "import numpy as np\n",
        "import pandas as pd\n",
        "from pgmpy.estimators import MaximumLikelihoodEstimator\n",
        "from pgmpy.models import BayesianModel\n",
        "from pgmpy.inference import VariableElimination\n",
        "\n",
        "# Read Cleveland Heart Disease data\n",
        "heartDisease = pd.read_csv('/content/Lab13.csv')\n",
        "heartDisease = heartDisease.replace('?', np.nan)\n",
        "\n",
        "# Display the data\n",
        "print('Few examples from the dataset are given below:')\n",
        "print(heartDisease.head())\n",
        "\n",
        "# Display the Attributes names and datatypes\n",
        "print('\\nAttributes and datatypes:')\n",
        "print(heartDisease.dtypes)\n",
        "\n",
        "# Check the unique values in the 'restecg' column\n",
        "print('\\nUnique values in restecg:')\n",
        "unique_restecg_values = heartDisease['restecg'].unique()\n",
        "print(unique_restecg_values)  # Print unique values"
      ],
      "metadata": {
        "colab": {
          "base_uri": "https://localhost:8080/"
        },
        "id": "kqaAsencGLsn",
        "outputId": "18d4da2f-7c65-4a6f-fdf3-0bde6bc54688"
      },
      "execution_count": 2,
      "outputs": [
        {
          "output_type": "stream",
          "name": "stdout",
          "text": [
            "Few examples from the dataset are given below:\n",
            "   age  sex  cp  trestbps  chol  fbs  restecg  thalach  exang  oldpeak  slope  \\\n",
            "0   63    1   1       145   233    1        2      150      0      2.3      3   \n",
            "1   67    1   4       160   286    0        2      108      1      1.5      2   \n",
            "2   67    1   4       120   229    0        2      129      1      2.6      2   \n",
            "3   41    0   2       130   204    0        2      172      0      1.4      1   \n",
            "4   62    0   4       140   268    0        2      160      0      3.6      3   \n",
            "\n",
            "   ca  thal  Heartdisease  \n",
            "0   0     6             0  \n",
            "1   3     3             2  \n",
            "2   2     7             1  \n",
            "3   0     3             0  \n",
            "4   2     3             3  \n",
            "\n",
            "Attributes and datatypes:\n",
            "age               int64\n",
            "sex               int64\n",
            "cp                int64\n",
            "trestbps          int64\n",
            "chol              int64\n",
            "fbs               int64\n",
            "restecg           int64\n",
            "thalach           int64\n",
            "exang             int64\n",
            "oldpeak         float64\n",
            "slope             int64\n",
            "ca                int64\n",
            "thal              int64\n",
            "Heartdisease      int64\n",
            "dtype: object\n",
            "\n",
            "Unique values in restecg:\n",
            "[2]\n"
          ]
        }
      ]
    },
    {
      "cell_type": "code",
      "source": [
        "# Create Model - Bayesian Network\n",
        "model = BayesianModel([\n",
        "    ('age', 'Heartdisease'),\n",
        "    ('sex', 'Heartdisease'),\n",
        "    ('exang', 'Heartdisease'),\n",
        "    ('cp', 'Heartdisease'),\n",
        "    ('Heartdisease', 'restecg'),\n",
        "    ('Heartdisease', 'chol')\n",
        "])\n",
        "\n",
        "# Learning CPDs using Maximum Likelihood Estimators\n",
        "print('\\nLearning CPD using Maximum Likelihood Estimators:')\n",
        "model.fit(heartDisease, estimator=MaximumLikelihoodEstimator)\n",
        "\n",
        "# Inferencing with Bayesian Network\n",
        "print('\\nInferencing with Bayesian Network:')\n",
        "HeartDiseasetest_infer = VariableElimination(model)\n",
        "\n",
        "# Use valid value from unique values of restecg\n",
        "# Here, you can replace 1 with a valid value from unique_restecg_values\n",
        "# Ensure that the value you use is one of the valid states\n",
        "# For example, if unique_restecg_values outputs [0, 1, 2], you can use any of those as valid evidence.\n",
        "if len(unique_restecg_values) > 0:\n",
        "    valid_restecg_value = unique_restecg_values[0]  # Change this if needed based on your dataset\n",
        "    print(f'\\n1. Probability of HeartDisease given evidence= restecg: {valid_restecg_value}')\n",
        "    q1 = HeartDiseasetest_infer.query(variables=['Heartdisease'], evidence={'restecg': valid_restecg_value})\n",
        "    print(q1)\n",
        "else:\n",
        "    print(\"No unique values found for restecg.\")\n",
        "\n",
        "# Computing the Probability of HeartDisease given cp\n",
        "print('\\n2. Probability of HeartDisease given evidence= cp: 2')\n",
        "q2 = HeartDiseasetest_infer.query(variables=['Heartdisease'], evidence={'cp': 2})\n",
        "print(q2)\n"
      ],
      "metadata": {
        "colab": {
          "base_uri": "https://localhost:8080/"
        },
        "id": "AFC6I0SxGVEI",
        "outputId": "71d1c863-ad92-4687-b637-6c2b875dd3f7"
      },
      "execution_count": 3,
      "outputs": [
        {
          "output_type": "stream",
          "name": "stderr",
          "text": [
            "WARNING:pgmpy:BayesianModel has been renamed to BayesianNetwork. Please use BayesianNetwork class, BayesianModel will be removed in future.\n",
            "WARNING:pgmpy:BayesianModel has been renamed to BayesianNetwork. Please use BayesianNetwork class, BayesianModel will be removed in future.\n",
            "WARNING:pgmpy:BayesianModel has been renamed to BayesianNetwork. Please use BayesianNetwork class, BayesianModel will be removed in future.\n",
            "WARNING:pgmpy:BayesianModel has been renamed to BayesianNetwork. Please use BayesianNetwork class, BayesianModel will be removed in future.\n",
            "WARNING:pgmpy:BayesianModel has been renamed to BayesianNetwork. Please use BayesianNetwork class, BayesianModel will be removed in future.\n"
          ]
        },
        {
          "output_type": "stream",
          "name": "stdout",
          "text": [
            "\n",
            "Learning CPD using Maximum Likelihood Estimators:\n",
            "\n",
            "Inferencing with Bayesian Network:\n",
            "\n",
            "1. Probability of HeartDisease given evidence= restecg: 2\n",
            "+-----------------+---------------------+\n",
            "| Heartdisease    |   phi(Heartdisease) |\n",
            "+=================+=====================+\n",
            "| Heartdisease(0) |              0.1852 |\n",
            "+-----------------+---------------------+\n",
            "| Heartdisease(1) |              0.2083 |\n",
            "+-----------------+---------------------+\n",
            "| Heartdisease(2) |              0.2083 |\n",
            "+-----------------+---------------------+\n",
            "| Heartdisease(3) |              0.1898 |\n",
            "+-----------------+---------------------+\n",
            "| Heartdisease(4) |              0.2083 |\n",
            "+-----------------+---------------------+\n",
            "\n",
            "2. Probability of HeartDisease given evidence= cp: 2\n",
            "+-----------------+---------------------+\n",
            "| Heartdisease    |   phi(Heartdisease) |\n",
            "+=================+=====================+\n",
            "| Heartdisease(0) |              0.2222 |\n",
            "+-----------------+---------------------+\n",
            "| Heartdisease(1) |              0.1944 |\n",
            "+-----------------+---------------------+\n",
            "| Heartdisease(2) |              0.1944 |\n",
            "+-----------------+---------------------+\n",
            "| Heartdisease(3) |              0.1944 |\n",
            "+-----------------+---------------------+\n",
            "| Heartdisease(4) |              0.1944 |\n",
            "+-----------------+---------------------+\n"
          ]
        }
      ]
    }
  ]
}